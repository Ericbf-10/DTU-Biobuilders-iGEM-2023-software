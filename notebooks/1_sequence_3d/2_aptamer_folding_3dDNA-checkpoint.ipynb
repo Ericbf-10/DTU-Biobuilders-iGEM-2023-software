{
 "cells": [
  {
   "cell_type": "markdown",
   "id": "dda40d7e",
   "metadata": {},
   "source": [
    "# Aptamer Folding - 3dDNA & ViennaRNA\n",
    "- Use ViennaRNA to 2d fold the target sequence\n",
    "- Use 3dDNA to fold "
   ]
  },
  {
   "cell_type": "code",
   "execution_count": null,
   "id": "ff2410f2",
   "metadata": {},
   "outputs": [],
   "source": []
  },
  {
   "cell_type": "code",
   "execution_count": 2,
   "id": "1177ea6f",
   "metadata": {},
   "outputs": [
    {
     "ename": "SyntaxError",
     "evalue": "invalid syntax (3608022357.py, line 22)",
     "output_type": "error",
     "traceback": [
      "\u001b[0;36m  Input \u001b[0;32mIn [2]\u001b[0;36m\u001b[0m\n\u001b[0;31m    print response.json()[\"state\"]\u001b[0m\n\u001b[0m          ^\u001b[0m\n\u001b[0;31mSyntaxError\u001b[0m\u001b[0;31m:\u001b[0m invalid syntax\n"
     ]
    }
   ],
   "source": [
    "import requests\n",
    "\n",
    "auth_token = \"[your-token-string]\"\n",
    "header = {'Authorization': 'Bearer ' + auth_token}\n",
    "\n",
    "data = {\n",
    "    \"name\": \"test\",\n",
    "    \"params\": {\n",
    "        \"seq\": \"\",\n",
    "        \"ss\": \"\",\n",
    "        \"num\": 8,\n",
    "        \"disused_pdbs\": \"1Y26 2L1V\",\n",
    "        \"loop_building\": \"partial_bires\",\n",
    "        \"_minimize\": \"yes\",\n",
    "        \"_pred_ss\": \"no\",\n",
    "        \"_routine\": \"assemble\"\n",
    "    }\n",
    "}\n",
    "# submit a job\n",
    "response = requests.post('https://biophy.hust.edu.cn/api/3dRNA/jobs',\n",
    "            json=data, headers=header, verify=False)\n",
    "print response.json()[\"state\"]"
   ]
  },
  {
   "cell_type": "code",
   "execution_count": null,
   "id": "f718522c",
   "metadata": {},
   "outputs": [],
   "source": [
    "auth_token = \"[your-token-string]\"\n",
    "header = {'Authorization': 'Bearer ' + auth_token}\n",
    "response = requests.get(\"https://biophy.hust.edu.cn/api/3dRNA/jobs/[jobid]\", headers=header, verify=False)\n",
    "print response.json()"
   ]
  }
 ],
 "metadata": {
  "kernelspec": {
   "display_name": "Python 3 (ipykernel)",
   "language": "python",
   "name": "python3"
  },
  "language_info": {
   "codemirror_mode": {
    "name": "ipython",
    "version": 3
   },
   "file_extension": ".py",
   "mimetype": "text/x-python",
   "name": "python",
   "nbconvert_exporter": "python",
   "pygments_lexer": "ipython3",
   "version": "3.9.12"
  }
 },
 "nbformat": 4,
 "nbformat_minor": 5
}
