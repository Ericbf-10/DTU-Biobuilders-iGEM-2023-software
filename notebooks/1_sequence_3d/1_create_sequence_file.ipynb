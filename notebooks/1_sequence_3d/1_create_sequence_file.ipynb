{
 "cells": [
  {
   "cell_type": "markdown",
   "id": "d5789ccd",
   "metadata": {},
   "source": [
    "# Create Sequence File\n",
    "- Input a DNA or RNA sequence, and this notebook will create a PDB file using tleap"
   ]
  },
  {
   "cell_type": "code",
   "execution_count": 1,
   "id": "c34f1eee",
   "metadata": {},
   "outputs": [],
   "source": [
    "import os, subprocess\n",
    "\n",
    "data_dir = \"../../data\"\n",
    "os.chdir(data_dir)"
   ]
  },
  {
   "cell_type": "code",
   "execution_count": 2,
   "id": "cc3edbc5",
   "metadata": {},
   "outputs": [
    {
     "name": "stdout",
     "output_type": "stream",
     "text": [
      "Enter the DNA/RNA sequence: CTTTTACGCAAAAG\n",
      "You've entered a valid DNA sequence: CTTTTACGCAAAAG\n"
     ]
    }
   ],
   "source": [
    "def is_valid_DNA(seq):\n",
    "    return all(nucleotide in \"ATCG\" for nucleotide in seq)\n",
    "\n",
    "def is_valid_RNA(seq):\n",
    "    return all(nucleotide in \"AUCG\" for nucleotide in seq)\n",
    "\n",
    "while True:\n",
    "    sequence = input(\"Enter the DNA/RNA sequence: \")\n",
    "    \n",
    "    if is_valid_DNA(sequence):\n",
    "        molecule_type = \"DNA\"\n",
    "        print(f\"You've entered a valid DNA sequence: {sequence}\")\n",
    "        break\n",
    "    elif is_valid_RNA(sequence):\n",
    "        molecule_type = \"RNA\"\n",
    "        print(f\"You've entered a valid RNA sequence: {sequence}\")\n",
    "        break\n",
    "    else:\n",
    "        print(\"The sequence is neither valid DNA nor RNA. Please try again.\")\n"
   ]
  },
  {
   "cell_type": "code",
   "execution_count": 6,
   "id": "96916147",
   "metadata": {},
   "outputs": [],
   "source": [
    "def write_fasta(seq, filename):\n",
    "    with open(filename, 'w') as f:\n",
    "        f.write('>Aptamer_Sequence\\n')\n",
    "        f.write(seq + '\\n')\n",
    "        print(f\"The sequence is output into sequence.fasta file\")\n",
    "\n",
    "# Replace 'output.fasta' with your preferred output filename\n",
    "write_fasta(sequence, 'sequence.fasta')\n"
   ]
  },
  {
   "cell_type": "code",
   "execution_count": 3,
   "id": "127fe22a",
   "metadata": {},
   "outputs": [
    {
     "name": "stdout",
     "output_type": "stream",
     "text": [
      "The LEAP setup file for aptamer is created\n"
     ]
    }
   ],
   "source": [
    "def modify_sequence_for_OL15(seq, mol_type):\n",
    "    if mol_type == \"DNA\":\n",
    "        return seq.replace(\"A\", \"DA \").replace(\"T\", \"DT \").replace(\"C\", \"DC \").replace(\"G\", \"DG \")\n",
    "    elif mol_type == \"RNA\":\n",
    "        return seq.replace(\"A\", \"RA \").replace(\"U\", \"RU \").replace(\"C\", \"RC \").replace(\"G\", \"RG \")\n",
    "\n",
    "modified_sequence = modify_sequence_for_OL15(sequence, molecule_type)\n",
    "\n",
    "sequence_file = \"create_sequence.leap\"\n",
    "with open(sequence_file, \"w\") as file:\n",
    "    if molecule_type == \"DNA\":\n",
    "        file.write(\"source leaprc.DNA.OL15\\n\")  # For DNA with OL15 parameters\n",
    "    else:\n",
    "        file.write(\"source leaprc.RNA.OL15\\n\")  # For RNA with OL15 parameters\n",
    "    \n",
    "    file.write(f\"seq = sequence {{{modified_sequence}}}\\n\")\n",
    "    file.write(\"savepdb seq sequence.pdb\\n\")\n",
    "    file.write(\"quit\\n\")\n",
    "\n",
    "print(\"The LEAP setup file for aptamer is created\")"
   ]
  },
  {
   "cell_type": "code",
   "execution_count": 4,
   "id": "ce57bb5d",
   "metadata": {},
   "outputs": [
    {
     "name": "stdout",
     "output_type": "stream",
     "text": [
      "-I: Adding /Users/te/opt/anaconda3/dat/leap/prep to search path.\n",
      "-I: Adding /Users/te/opt/anaconda3/dat/leap/lib to search path.\n",
      "-I: Adding /Users/te/opt/anaconda3/dat/leap/parm to search path.\n",
      "-I: Adding /Users/te/opt/anaconda3/dat/leap/cmd to search path.\n",
      "-f: Source create_sequence.leap.\n",
      "\n",
      "Welcome to LEaP!\n",
      "(no leaprc in search path)\n",
      "Sourcing: ./create_sequence.leap\n",
      "----- Source: /Users/te/opt/anaconda3/dat/leap/cmd/leaprc.DNA.OL15\n",
      "----- Source of /Users/te/opt/anaconda3/dat/leap/cmd/leaprc.DNA.OL15 done\n",
      "Log file: ./leap.log\n",
      "Loading library: /Users/te/opt/anaconda3/dat/leap/lib/DNA.OL15.lib\n",
      "Loading parameters: /Users/te/opt/anaconda3/dat/leap/parm/parm10.dat\n",
      "Reading title:\n",
      "PARM99 + frcmod.ff99SB + frcmod.parmbsc0 + OL3 for RNA\n",
      "Loading parameters: /Users/te/opt/anaconda3/dat/leap/parm/frcmod.DNA.OL15\n",
      "Reading force field modification type file (frcmod)\n",
      "Reading title:\n",
      "OL15 force field for DNA (99bsc0-betaOL1-eps-zetaOL1-chiOL4) see http://ffol.upol.cz\n",
      "Writing pdb file: sequence.pdb\n",
      "\tQuit\n",
      "\n",
      "Exiting LEaP: Errors = 0; Warnings = 0; Notes = 0.\n"
     ]
    },
    {
     "data": {
      "text/plain": [
       "CompletedProcess(args=['tleap', '-f', 'create_sequence.leap'], returncode=0)"
      ]
     },
     "execution_count": 4,
     "metadata": {},
     "output_type": "execute_result"
    }
   ],
   "source": [
    "subprocess.run([\"tleap\", \"-f\", \"create_sequence.leap\"])"
   ]
  },
  {
   "cell_type": "code",
   "execution_count": 5,
   "id": "8095c649",
   "metadata": {},
   "outputs": [
    {
     "name": "stdout",
     "output_type": "stream",
     "text": [
      "Modified PDB saved as sequence_modified.pdb\n"
     ]
    }
   ],
   "source": [
    "input_filename = \"sequence.pdb\"\n",
    "output_filename = \"sequence_modified.pdb\"\n",
    "\n",
    "# Define the residue name\n",
    "residue_name = \"APT\"\n",
    "\n",
    "with open(input_filename, 'r') as infile, open(output_filename, 'w') as outfile:\n",
    "    for line in infile:\n",
    "        if line.startswith(\"ATOM\"):\n",
    "            # Replace residue name (columns 18-20) and residue number (columns 23-26)\n",
    "            # Setting all residues to 'APT' and '1'\n",
    "            line = line[:17] + f\"{residue_name:3}\" + \" A   1\" + line[26:]\n",
    "        outfile.write(line)\n",
    "\n",
    "print(f\"Modified PDB saved as {output_filename}\")\n"
   ]
  }
 ],
 "metadata": {
  "kernelspec": {
   "display_name": "Python 3 (ipykernel)",
   "language": "python",
   "name": "python3"
  },
  "language_info": {
   "codemirror_mode": {
    "name": "ipython",
    "version": 3
   },
   "file_extension": ".py",
   "mimetype": "text/x-python",
   "name": "python",
   "nbconvert_exporter": "python",
   "pygments_lexer": "ipython3",
   "version": "3.9.12"
  }
 },
 "nbformat": 4,
 "nbformat_minor": 5
}
