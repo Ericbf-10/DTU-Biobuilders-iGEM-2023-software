{
 "cells": [
  {
   "cell_type": "markdown",
   "id": "d5789ccd",
   "metadata": {},
   "source": [
    "# Create Sequence File\n",
    "- Input a DNA or RNA sequence, and this notebook will create a PDB file using tleap"
   ]
  },
  {
   "cell_type": "code",
   "execution_count": null,
   "id": "c34f1eee",
   "metadata": {},
   "outputs": [],
   "source": [
    "import os, subprocess\n",
    "\n",
    "data_dir = \"../../data\"\n",
    "os.chdir(data_dir)"
   ]
  },
  {
   "cell_type": "code",
   "execution_count": null,
   "id": "cc3edbc5",
   "metadata": {},
   "outputs": [],
   "source": [
    "def is_valid_DNA(seq):\n",
    "    return all(nucleotide in \"ATCG\" for nucleotide in seq)\n",
    "\n",
    "def is_valid_RNA(seq):\n",
    "    return all(nucleotide in \"AUCG\" for nucleotide in seq)\n",
    "\n",
    "while True:\n",
    "    sequence = input(\"Enter the DNA/RNA sequence: \")\n",
    "    \n",
    "    if is_valid_DNA(sequence):\n",
    "        molecule_type = \"DNA\"\n",
    "        print(f\"You've entered a valid DNA sequence: {sequence}\")\n",
    "        break\n",
    "    elif is_valid_RNA(sequence):\n",
    "        molecule_type = \"RNA\"\n",
    "        print(f\"You've entered a valid RNA sequence: {sequence}\")\n",
    "        break\n",
    "    else:\n",
    "        print(\"The sequence is neither valid DNA nor RNA. Please try again.\")\n"
   ]
  },
  {
   "cell_type": "code",
   "execution_count": null,
   "id": "96916147",
   "metadata": {},
   "outputs": [],
   "source": [
    "def write_fasta(seq, filename):\n",
    "    with open(filename, 'w') as f:\n",
    "        f.write('>Aptamer_Sequence\\n')\n",
    "        f.write(seq + '\\n')\n",
    "        print(f\"The sequence is output into sequence.fasta file\")\n",
    "\n",
    "# Replace 'output.fasta' with your preferred output filename\n",
    "write_fasta(sequence, 'sequence.fasta')\n"
   ]
  },
  {
   "cell_type": "code",
   "execution_count": null,
   "id": "127fe22a",
   "metadata": {},
   "outputs": [],
   "source": [
    "def modify_sequence_for_OL15(seq, mol_type):\n",
    "    if mol_type == \"DNA\":\n",
    "        return seq.replace(\"A\", \"DA \").replace(\"T\", \"DT \").replace(\"C\", \"DC \").replace(\"G\", \"DG \")\n",
    "    elif mol_type == \"RNA\":\n",
    "        return seq.replace(\"A\", \"RA \").replace(\"U\", \"RU \").replace(\"C\", \"RC \").replace(\"G\", \"RG \")\n",
    "\n",
    "modified_sequence = modify_sequence_for_OL15(sequence, molecule_type)\n",
    "\n",
    "sequence_file = \"create_sequence.leap\"\n",
    "with open(sequence_file, \"w\") as file:\n",
    "    if molecule_type == \"DNA\":\n",
    "        file.write(\"source leaprc.DNA.OL15\\n\")  # For DNA with OL15 parameters\n",
    "    else:\n",
    "        file.write(\"source leaprc.RNA.OL15\\n\")  # For RNA with OL15 parameters\n",
    "    \n",
    "    file.write(f\"seq = sequence {{{modified_sequence}}}\\n\")\n",
    "    file.write(\"savepdb seq sequence.pdb\\n\")\n",
    "    file.write(\"quit\\n\")\n",
    "\n",
    "print(\"The LEAP setup file for aptamer is created\")"
   ]
  },
  {
   "cell_type": "code",
   "execution_count": null,
   "id": "ce57bb5d",
   "metadata": {},
   "outputs": [],
   "source": [
    "subprocess.run([\"tleap\", \"-f\", \"create_sequence.leap\"])"
   ]
  },
  {
   "cell_type": "code",
   "execution_count": null,
   "id": "8095c649",
   "metadata": {},
   "outputs": [],
   "source": [
    "input_filename = \"sequence.pdb\"\n",
    "output_filename = \"sequence_modified.pdb\"\n",
    "\n",
    "# Define the residue name\n",
    "residue_name = \"APT\"\n",
    "\n",
    "with open(input_filename, 'r') as infile, open(output_filename, 'w') as outfile:\n",
    "    for line in infile:\n",
    "        if line.startswith(\"ATOM\"):\n",
    "            # Replace residue name (columns 18-20) and residue number (columns 23-26)\n",
    "            # Setting all residues to 'APT' and '1'\n",
    "            line = line[:17] + f\"{residue_name:3}\" + \" A   1\" + line[26:]\n",
    "        outfile.write(line)\n",
    "\n",
    "print(f\"Modified PDB saved as {output_filename}\")\n"
   ]
  },
  {
   "cell_type": "code",
   "execution_count": null,
   "id": "ad5644a8",
   "metadata": {},
   "outputs": [],
   "source": []
  }
 ],
 "metadata": {
  "kernelspec": {
   "display_name": "Python 3 (ipykernel)",
   "language": "python",
   "name": "python3"
  },
  "language_info": {
   "codemirror_mode": {
    "name": "ipython",
    "version": 3
   },
   "file_extension": ".py",
   "mimetype": "text/x-python",
   "name": "python",
   "nbconvert_exporter": "python",
   "pygments_lexer": "ipython3",
   "version": "3.9.12"
  }
 },
 "nbformat": 4,
 "nbformat_minor": 5
}
