{
 "cells": [
  {
   "cell_type": "markdown",
   "metadata": {},
   "source": [
    "# Molecular Dynamics\n",
    "This Jupyter Notebook provides a step-by-step guide for performing a Molecular Dynamics (MD) simulation using GROMACS. Initially, dependencies such as GROMACS and Python libraries are installed. Subsequently, the initial molecular structure is preprocessed, solvated, and various simulation parameters are set up. Multiple stages of the MD simulation, including energy minimization, equilibration, and production MD, are then executed. Lastly, trajectory analysis is performed, including the calculation of parameters like RMSD (Root Mean Square Deviation) and gyration, offering insights into the molecular system's behavior over time. This notebook is employed as a comprehensive tool for simulating and analyzing the molecular dynamics of the specified system.\n",
    "\n",
    "## Input/Output Description\n",
    "- **Input:**\n",
    "1. A PDB file (`maws_pfoa_aptamer.pdb`) representing the initial molecular structure.\n",
    "1. GROMACS parameter and configuration files (`ions.mdp`, `minim.mdp`, `nvt.mdp`, `npt.mdp`, `md.mdp`) for different simulation stages.\n",
    "`ions.mdp`: parameters for simulating the addition of ions to the system to achieve a desired salt concentration.\n",
    "`minim.mdp`: energy minimization, which aims to minimize the energy of the system to achieve a stable starting point for simulations.\n",
    "`nvt.mdp`: parameters for an NVT ensemble simulation, where the number of particles, volume, and temperature of the system are held constant.\n",
    "`npt.mdp`: NPT ensemble simulations, where the system is equilibrated at constant temperature and pressure.\n",
    "`md.mdp`: main production phase of the MD simulation, specifying simulation parameters for data collection on the system's dynamics.\n",
    "- **Output:**\n",
    "1. Processed and solvated molecular structures in GROMACS formats.\n",
    "1. Energy, temperature, pressure, and density profiles during the simulation.\n",
    "1. Trajectory and analysis files including RMSD, gyration, and more.\n",
    "\n",
    "### REMEMBER: change the Jupyter kernel to **Python (AptaLoop)**. See our README file for detailed information.\n"
   ]
  },
  {
   "cell_type": "code",
   "execution_count": null,
   "metadata": {},
   "outputs": [],
   "source": [
    "%%bash\n",
    "pip install --upgrade pip\n",
    "pip install wheel\n",
    "pip install setuptools\n",
    "pip install --upgrade setuptools wheel\n",
    "pip install --upgrade cmake pybind11\n",
    "pip install nglview\n",
    "pip install GromacsWrapper"
   ]
  },
  {
   "cell_type": "code",
   "execution_count": null,
   "metadata": {},
   "outputs": [],
   "source": [
    "import subprocess\n",
    "import matplotlib as mpl\n",
    "import matplotlib.pyplot as plt\n",
    "import numpy as np \n",
    "import gromacs \n",
    "import gromacs.formats\n",
    "import nglview as nv\n",
    "import os"
   ]
  },
  {
   "cell_type": "markdown",
   "metadata": {},
   "source": [
    "### Replace `maws_pfoa_aptamer.pdb` with the path of your file (relative to the script path) in the following cell"
   ]
  },
  {
   "cell_type": "code",
   "execution_count": 1,
   "metadata": {},
   "outputs": [],
   "source": [
    "script_path = os.getcwd()\n",
    "input_file = os.path.join(script_path, \"maws_pfoa_aptamer.pdb\")"
   ]
  },
  {
   "cell_type": "code",
   "execution_count": null,
   "metadata": {},
   "outputs": [],
   "source": [
    "!grep -v HOH $input_file > python_aptamer.pdb\n",
    "!gmx pdb2gmx -f python_aptamer.pdb -o python_aptamer_processed.gro -ignh -ff amber03 -water tip3p\n",
    "!gmx editconf -f python_aptamer_processed.gro -o python_newbox.gro -c -d 0.5 -bt cubic\n",
    "!gmx solvate -cp python_newbox.gro -cs spc216.gro -o python_solv.gro -p topol.top\n",
    "!gmx grompp -f ions.mdp -c python_solv.gro -p topol.top -o ions.tpr\n",
    "!printf \"SOL\" | gmx genion -s ions.tpr -o python_solv_ions.gro -p topol.top -pname NA -nname CL -neutral\n",
    "!gmx grompp -f minim.mdp -c python_solv_ions.gro -p topol.top -o em.tpr\n",
    "!gmx mdrun -v -deffnm em\n",
    "!printf \"10 0\"| gmx energy -f em.edr -o potential.xvg\n",
    "!gmx grompp -f nvt.mdp -c em.gro -r em.gro -p topol.top -o nvt.tpr\n",
    "!gmx mdrun -deffnm nvt\n",
    "!printf \"16 0\" | gmx energy -f nvt.edr -o temperature.xvg\n",
    "!gmx grompp -f npt.mdp -c nvt.gro -r nvt.gro -t nvt.cpt -p topol.top -o npt.tpr\n",
    "!gmx mdrun -deffnm npt\n",
    "!printf \"18 0\" | gmx energy -f npt.edr -o pressure.xvg\n",
    "!gmx energy -f npt.edr -o density.xvg\n",
    "!gmx grompp -f md.mdp -c npt.gro -t npt.cpt -p topol.top -o md_python.tpr\n",
    "!gmx mdrun -deffnm md_python"
   ]
  },
  {
   "cell_type": "code",
   "execution_count": null,
   "metadata": {},
   "outputs": [],
   "source": [
    "!printf \"1 0\" | gmx trjconv -s md_python.tpr -f md_python.xtc -o md_python_noPBC.xtc -pbc mol -center\n",
    "!printf \"4 0\" | gmx rms -s md_0_1.tpr -f md_python_noPBC.xtc -o rmsd.xvg -tu ns\n",
    "!gmx rms -s em.tpr -f md_python_noPBC.xtc -o rmsd_xtal.xvg -tu ns\n",
    "!printf \"1 0\" | gmx gyrate -s md_python.tpr -f md_python_noPBC.xtc -o gyrate.xvg"
   ]
  }
 ],
 "metadata": {
  "kernelspec": {
   "display_name": "maws_p3",
   "language": "python",
   "name": "python3"
  },
  "language_info": {
   "codemirror_mode": {
    "name": "ipython",
    "version": 3
   },
   "file_extension": ".py",
   "mimetype": "text/x-python",
   "name": "python",
   "nbconvert_exporter": "python",
   "pygments_lexer": "ipython3",
   "version": "3.9.17"
  }
 },
 "nbformat": 4,
 "nbformat_minor": 2
}
