{
 "cells": [
  {
   "cell_type": "markdown",
   "id": "b02eafb8",
   "metadata": {},
   "source": [
    "## 1. Create necessary directories\n"
   ]
  },
  {
   "cell_type": "code",
   "execution_count": 5,
   "id": "ed029628",
   "metadata": {},
   "outputs": [],
   "source": [
    "%%bash\n",
    "\n",
    "mkdir -p PDBQT_files\n",
    "mkdir -p Original_files\n",
    "mkdir -p Vina_results"
   ]
  },
  {
   "cell_type": "markdown",
   "id": "8b38ff3e",
   "metadata": {},
   "source": [
    "## 2. Locate your files (pdb or sdf) in the Orifinal_files directory"
   ]
  },
  {
   "cell_type": "code",
   "execution_count": 25,
   "id": "a5c3ee12",
   "metadata": {},
   "outputs": [],
   "source": [
    "Aptamer_path=\"PDB_files/3dRNA_DNA_PFOA1.pdb\"\n",
    "Ligand_path=\"PFOA_sdf2.sdf\"\n",
    "\n",
    "Aptamer_file=\"3dRNA_DNA_PFOA1.pdb\"\n",
    "Ligand_file=\"PFOA_sdf2.sdf\"\n",
    "\n",
    "Aptamer_name=\"3dRNA_DNA_PFOA1\"\n",
    "Ligand_name=\"PFOA_sdf2\""
   ]
  },
  {
   "cell_type": "code",
   "execution_count": 26,
   "id": "af3ff4d9",
   "metadata": {},
   "outputs": [],
   "source": [
    "%%bash -s \"$Aptamer_path\" \"$Ligand_path\"\n",
    "\n",
    "cp $1 Original_files/\n",
    "cp $2 Original_files/"
   ]
  },
  {
   "cell_type": "markdown",
   "id": "87d078fb",
   "metadata": {},
   "source": [
    "## 3.Make sure both receptor and ligand are reduced, and create PDBQT files"
   ]
  },
  {
   "cell_type": "code",
   "execution_count": 18,
   "id": "f090fe1c",
   "metadata": {},
   "outputs": [],
   "source": [
    "# Check if Aptamer_name ends with \".sdf\"\n",
    "if Ligand_file.endswith(\".sdf\"):\n",
    "    format_ligand = \"sdf\"\n",
    "# Check if Aptamer_name ends with \".pdb\"\n",
    "elif Ligand_file.endswith(\".pdb\"):\n",
    "    format_ligand = \"pdb\"\n",
    "# If neither \".sdf\" nor \".pdb\" is found at the end, you can provide a default value\n",
    "else:\n",
    "    print(\"Please, ensure that your ligand is in either .sdf or .pdb format\")\n"
   ]
  },
  {
   "cell_type": "code",
   "execution_count": 31,
   "id": "8a6aa069",
   "metadata": {},
   "outputs": [
    {
     "name": "stderr",
     "output_type": "stream",
     "text": [
      "1 molecule converted\n",
      "1 molecule converted\n",
      "1 molecule converted\n",
      "1 molecule converted\n"
     ]
    }
   ],
   "source": [
    "%%bash -s \"$Aptamer_name\" \"$Ligand_name\" \"$format_ligand\"\n",
    "\n",
    "# Reduce the aptamer\n",
    "obabel -i pdb Original_files/$1.pdb -o pdb -h > Original_files/$1_H.pdb\n",
    "# Get the pdbqt for the aptamer\n",
    "obabel Original_files/$1_H.pdb -O PDBQT_files/$1.pdbqt -p 7.4 -xr\n",
    "\n",
    "\n",
    "# Reduce the ligand\n",
    "# Check if $3 equals \"sdf\"\n",
    "if [ \"$3\" = \"sdf\" ]; then\n",
    "    obabel -i sdf Original_files/$2.sdf -o sdf -h > Original_files/$2_H.sdf\n",
    "    obabel -isdf Original_files/$2_H.sdf -opdbqt -O PDBQT_files/$2.pdbqt\n",
    "# Check if $3 equals \"pdb\"\n",
    "elif [ \"$3\" = \"pdb\" ]; then\n",
    "    obabel -i pdb Original_files/$2.pdb -o pdb -h > Original_files/$2_H.pdb\n",
    "    obabel Original_files/$2_H.pdb -O PDBQT_files/$2.pdbqt -p 7.4\n",
    "\n",
    "else\n",
    "    # Handle other cases or provide an error message\n",
    "    echo \"Invalid value for \\$3: $3\"\n",
    "    exit 1\n",
    "fi\n"
   ]
  },
  {
   "cell_type": "markdown",
   "id": "3f087045",
   "metadata": {},
   "source": [
    "## 4.Run AutodockVina"
   ]
  },
  {
   "cell_type": "code",
   "execution_count": null,
   "id": "385cc0f6",
   "metadata": {},
   "outputs": [],
   "source": [
    "# Create the parameters file"
   ]
  },
  {
   "cell_type": "code",
   "execution_count": 35,
   "id": "183d0eb5",
   "metadata": {},
   "outputs": [
    {
     "name": "stdout",
     "output_type": "stream",
     "text": [
      "AutoDock Vina v1.2.3\n",
      "#################################################################\n",
      "# If you used AutoDock Vina in your work, please cite:          #\n",
      "#                                                               #\n",
      "# J. Eberhardt, D. Santos-Martins, A. F. Tillack, and S. Forli  #\n",
      "# AutoDock Vina 1.2.0: New Docking Methods, Expanded Force      #\n",
      "# Field, and Python Bindings, J. Chem. Inf. Model. (2021)       #\n",
      "# DOI 10.1021/acs.jcim.1c00203                                  #\n",
      "#                                                               #\n",
      "# O. Trott, A. J. Olson,                                        #\n",
      "# AutoDock Vina: improving the speed and accuracy of docking    #\n",
      "# with a new scoring function, efficient optimization and       #\n",
      "# multithreading, J. Comp. Chem. (2010)                         #\n",
      "# DOI 10.1002/jcc.21334                                         #\n",
      "#                                                               #\n",
      "# Please see https://github.com/ccsb-scripps/AutoDock-Vina for  #\n",
      "# more information.                                             #\n",
      "#################################################################\n",
      "\n",
      "Scoring function : vina\n",
      "Rigid receptor: PDBQT_files/3dRNA_DNA_PFOA1.pdbqt\n",
      "Ligand: PDBQT_files/PFOA_opt_limpio.pdbqt\n",
      "Grid center: X 154.685 Y -45.6201 Z -84.023\n",
      "Grid size  : X 54.4863 Y 54.348 Z 30.566\n",
      "Grid space : 0.375\n",
      "Exhaustiveness: 8\n",
      "CPU: 0\n",
      "Verbosity: 1\n",
      "\n",
      "Computing Vina grid ... done.\n",
      "Performing docking (random seed: 1166078209) ... \n",
      "0%   10   20   30   40   50   60   70   80   90   100%\n",
      "|----|----|----|----|----|----|----|----|----|----|\n",
      "***************************************************\n",
      "\n",
      "mode |   affinity | dist from best mode\n",
      "     | (kcal/mol) | rmsd l.b.| rmsd u.b.\n",
      "-----+------------+----------+----------\n",
      "   1       -6.998          0          0\n",
      "   2       -6.911       7.78      11.74\n",
      "   3       -6.738      2.467       5.44\n",
      "   4       -6.459     0.8226      1.791\n",
      "   5       -6.447      1.047      2.624\n",
      "   6       -6.328      8.513      12.45\n",
      "   7       -6.324      2.584      5.732\n",
      "   8       -6.178      1.845      3.135\n",
      "   9       -6.168      1.457      2.869\n"
     ]
    },
    {
     "name": "stderr",
     "output_type": "stream",
     "text": [
      "WARNING: Search space volume is greater than 27000 Angstrom^3 (See FAQ)\n"
     ]
    }
   ],
   "source": [
    "%%bash -s \"$Aptamer_name\" \"$Ligand_name\" \"$path_PDBQT_apt\" \"$path_PDBQT_lig\"\n",
    "\n",
    "\n",
    "cd Vina_params\n",
    "\n",
    "# Check if the file exists. Otherwise, create it\n",
    "param_file=\"Ap1v2_params.txt\"\n",
    "if [ ! -f \"$param_file\" ]; then\n",
    "  x_c=154.685\n",
    "  y_c=-45.6201\n",
    "  z_c=-84.023\n",
    "  x_s=54.4863\n",
    "  y_s=54.348\n",
    "  z_s=30.566\n",
    "  \n",
    "  echo $x_c>$param_file\n",
    "  echo $y_c>>$param_file\n",
    "  echo $z_c>>$param_file\n",
    "  echo $x_s>>$param_file\n",
    "  echo $y_s>>$param_file\n",
    "  echo $z_s>>$param_file\n",
    "\n",
    "\n",
    "\n",
    "fi\n",
    "\n",
    "# Initialize the variables\n",
    "\n",
    "xc=\"\"\n",
    "yc=\"\"\n",
    "zc=\"\"\n",
    "xs=\"\"\n",
    "ys=\"\"\n",
    "zs=\"\"\n",
    "\n",
    "# Read the content of the file into variables using a loop\n",
    "while IFS= read -r line; do\n",
    "  if [ -z \"$xc\" ]; then\n",
    "    xc=\"$line\"\n",
    "  elif [ -z \"$yc\" ]; then\n",
    "    yc=\"$line\"\n",
    "  elif [ -z \"$zc\" ]; then\n",
    "    zc=\"$line\"\n",
    "  elif [ -z \"$xs\" ]; then\n",
    "    xs=\"$line\"\n",
    "  elif [ -z \"$ys\" ]; then\n",
    "    ys=\"$line\"\n",
    "  elif [ -z \"$zs\" ]; then\n",
    "    zs=\"$line\"\n",
    "  fi\n",
    "done < \"$param_file\"\n",
    "\n",
    "\n",
    "cd ..\n",
    "\n",
    "# Run Vina\n",
    "\n",
    "# PDBQT_apt=\"PDBQT_files/3dRNA_DNA_PFOA1.pdbqt\"\n",
    "# PDBQT_lig=\"PDBQT_files/PFOA_secondtry.pdbqt\"\n",
    "# Aptamer_name=\"3dRNA_DNA_PFOA1\"\n",
    "\n",
    "\n",
    "vina --receptor $3 --ligand $4 --center_x $xc --center_y $yc --center_z $zc --size_x $xs --size_y $ys --size_z $zs --out Vina_results/$1.pdbqt"
   ]
  },
  {
   "cell_type": "code",
   "execution_count": null,
   "id": "3d56eef1",
   "metadata": {},
   "outputs": [],
   "source": []
  }
 ],
 "metadata": {
  "kernelspec": {
   "display_name": "Python 3 (ipykernel)",
   "language": "python",
   "name": "python3"
  },
  "language_info": {
   "codemirror_mode": {
    "name": "ipython",
    "version": 3
   },
   "file_extension": ".py",
   "mimetype": "text/x-python",
   "name": "python",
   "nbconvert_exporter": "python",
   "pygments_lexer": "ipython3",
   "version": "3.10.12"
  }
 },
 "nbformat": 4,
 "nbformat_minor": 5
}
