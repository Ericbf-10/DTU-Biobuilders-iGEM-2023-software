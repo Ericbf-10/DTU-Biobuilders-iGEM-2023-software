{
 "cells": [
  {
   "cell_type": "markdown",
   "id": "b02eafb8",
   "metadata": {},
   "source": [
    "## 1. Create necessary directories\n"
   ]
  },
  {
   "cell_type": "code",
   "execution_count": 2,
   "id": "ed029628",
   "metadata": {},
   "outputs": [],
   "source": [
    "%%bash\n",
    "\n",
    "mkdir -p PDBQT_files\n",
    "mkdir -p PDB_files\n",
    "mkdir -p Vina_results"
   ]
  },
  {
   "cell_type": "markdown",
   "id": "103a8d8b",
   "metadata": {},
   "source": [
    "## 2. Load the data"
   ]
  },
  {
   "cell_type": "code",
   "execution_count": 17,
   "id": "566b2106",
   "metadata": {},
   "outputs": [],
   "source": [
    "Aptamer_pdb=\"PDB_files/3dRNA_DNA_PFOA1.pdb\"\n",
    "Ligand_pdb=\"PDB_files/PFOA_opt_limpio.pdb\"\n",
    "\n",
    "Aptamer_name=\"3dRNA_DNA_PFOA1\"\n",
    "Ligand_name=\"PFOA_opt_limpio\"\n",
    "\n",
    "path_PDBQT_apt=\"PDBQT_files/3dRNA_DNA_PFOA1.pdbqt\"\n",
    "path_PDBQT_lig=\"PDBQT_files/PFOA_opt_limpio.pdbqt\""
   ]
  },
  {
   "cell_type": "markdown",
   "id": "5c689f94",
   "metadata": {},
   "source": [
    "## 3. Create PDBQT files"
   ]
  },
  {
   "cell_type": "code",
   "execution_count": 18,
   "id": "cb8b25ed",
   "metadata": {},
   "outputs": [
    {
     "name": "stderr",
     "output_type": "stream",
     "text": [
      "1 molecule converted\n",
      "1 molecule converted\n"
     ]
    }
   ],
   "source": [
    "%%bash -s \"$Aptamer_pdb\" \"$Ligand_pdb\" \"$path_PDBQT_apt\" \"$path_PDBQT_lig\"\n",
    "\n",
    "obabel $1 -O $3 -p 7.4 -xr\n",
    "obabel $2 -O $4 -p "
   ]
  },
  {
   "cell_type": "markdown",
   "id": "3f087045",
   "metadata": {},
   "source": [
    "## 4.Run AutodockVina"
   ]
  },
  {
   "cell_type": "code",
   "execution_count": 23,
   "id": "183d0eb5",
   "metadata": {},
   "outputs": [
    {
     "name": "stdout",
     "output_type": "stream",
     "text": [
      "AutoDock Vina v1.2.3\n",
      "#################################################################\n",
      "# If you used AutoDock Vina in your work, please cite:          #\n",
      "#                                                               #\n",
      "# J. Eberhardt, D. Santos-Martins, A. F. Tillack, and S. Forli  #\n",
      "# AutoDock Vina 1.2.0: New Docking Methods, Expanded Force      #\n",
      "# Field, and Python Bindings, J. Chem. Inf. Model. (2021)       #\n",
      "# DOI 10.1021/acs.jcim.1c00203                                  #\n",
      "#                                                               #\n",
      "# O. Trott, A. J. Olson,                                        #\n",
      "# AutoDock Vina: improving the speed and accuracy of docking    #\n",
      "# with a new scoring function, efficient optimization and       #\n",
      "# multithreading, J. Comp. Chem. (2010)                         #\n",
      "# DOI 10.1002/jcc.21334                                         #\n",
      "#                                                               #\n",
      "# Please see https://github.com/ccsb-scripps/AutoDock-Vina for  #\n",
      "# more information.                                             #\n",
      "#################################################################\n",
      "\n",
      "Scoring function : vina\n",
      "Rigid receptor: PDBQT_files/3dRNA_DNA_PFOA1.pdbqt\n",
      "Ligand: PDBQT_files/PFOA_opt_limpio.pdbqt\n",
      "Grid center: X 154.685 Y -45.6201 Z -84.023\n",
      "Grid size  : X 54.4863 Y 54.348 Z 30.566\n",
      "Grid space : 0.375\n",
      "Exhaustiveness: 8\n",
      "CPU: 0\n",
      "Verbosity: 1\n",
      "\n",
      "Computing Vina grid ... done.\n",
      "Performing docking (random seed: -617424316) ... \n",
      "0%   10   20   30   40   50   60   70   80   90   100%\n",
      "|----|----|----|----|----|----|----|----|----|----|\n",
      "***************************************************\n",
      "\n",
      "mode |   affinity | dist from best mode\n",
      "     | (kcal/mol) | rmsd l.b.| rmsd u.b.\n",
      "-----+------------+----------+----------\n",
      "   1       -6.956          0          0\n",
      "   2        -6.71      2.472      5.466\n",
      "   3       -6.526      1.518      2.481\n",
      "   4       -6.488      1.203      2.438\n",
      "   5       -6.445       2.42      5.527\n",
      "   6        -6.43     0.9073       2.05\n",
      "   7       -6.423      8.066      12.11\n",
      "   8       -6.418      2.933      6.121\n",
      "   9       -6.362      8.946      13.11\n"
     ]
    },
    {
     "name": "stderr",
     "output_type": "stream",
     "text": [
      "WARNING: Search space volume is greater than 27000 Angstrom^3 (See FAQ)\n"
     ]
    }
   ],
   "source": [
    "%%bash -s \"$Aptamer_name\" \"$Ligand_name\" \"$path_PDBQT_apt\" \"$path_PDBQT_lig\"\n",
    "\n",
    "\n",
    "cd Vina_params\n",
    "\n",
    "# Check if the file exists\n",
    "param_file=\"Ap1_params.txt\"\n",
    "if [ ! -f \"$param_file\" ]; then\n",
    "  echo \"Error: The parameter file $param_file does not exist.\"\n",
    "  exit 1\n",
    "fi\n",
    "\n",
    "# Initialize the variables\n",
    "\n",
    "xc=\"\"\n",
    "yc=\"\"\n",
    "zc=\"\"\n",
    "xs=\"\"\n",
    "ys=\"\"\n",
    "zs=\"\"\n",
    "\n",
    "# Read the content of the file into variables using a loop\n",
    "while IFS= read -r line; do\n",
    "  if [ -z \"$xc\" ]; then\n",
    "    xc=\"$line\"\n",
    "  elif [ -z \"$yc\" ]; then\n",
    "    yc=\"$line\"\n",
    "  elif [ -z \"$zc\" ]; then\n",
    "    zc=\"$line\"\n",
    "  elif [ -z \"$xs\" ]; then\n",
    "    xs=\"$line\"\n",
    "  elif [ -z \"$ys\" ]; then\n",
    "    ys=\"$line\"\n",
    "  elif [ -z \"$zs\" ]; then\n",
    "    zs=\"$line\"\n",
    "  fi\n",
    "done < \"$param_file\"\n",
    "\n",
    "\n",
    "cd ..\n",
    "\n",
    "# Run Vina\n",
    "\n",
    "# PDBQT_apt=\"PDBQT_files/3dRNA_DNA_PFOA1.pdbqt\"\n",
    "# PDBQT_lig=\"PDBQT_files/PFOA_secondtry.pdbqt\"\n",
    "# Aptamer_name=\"3dRNA_DNA_PFOA1\"\n",
    "\n",
    "\n",
    "vina --receptor $3 --ligand $4 --center_x $xc --center_y $yc --center_z $zc --size_x $xs --size_y $ys --size_z $zs --out Vina_results/$1.pdbqt"
   ]
  },
  {
   "cell_type": "code",
   "execution_count": null,
   "id": "3d56eef1",
   "metadata": {},
   "outputs": [],
   "source": []
  }
 ],
 "metadata": {
  "kernelspec": {
   "display_name": "Python 3 (ipykernel)",
   "language": "python",
   "name": "python3"
  },
  "language_info": {
   "codemirror_mode": {
    "name": "ipython",
    "version": 3
   },
   "file_extension": ".py",
   "mimetype": "text/x-python",
   "name": "python",
   "nbconvert_exporter": "python",
   "pygments_lexer": "ipython3",
   "version": "3.10.12"
  }
 },
 "nbformat": 4,
 "nbformat_minor": 5
}
