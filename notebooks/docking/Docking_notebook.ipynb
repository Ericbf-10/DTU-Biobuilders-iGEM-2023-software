{
 "cells": [
  {
   "cell_type": "markdown",
   "id": "9693fa8b",
   "metadata": {},
   "source": [
    "# Docking"
   ]
  },
  {
   "cell_type": "markdown",
   "id": "ac610712",
   "metadata": {},
   "source": [
    "This notebook takes two files as input: a .pdb file for the receptor (aptamer) and a .sdf or .pdb file for the ligand. It is necessary to indicate the whole path for these files at the \"Locate your files\" step.\n",
    "\n",
    "Both files will be used to reduce the molecules and obtain .pdbqt files, which will serve as input for AutoDock Vina to perform docking.\n",
    "\n",
    "Before performing docking, it is necessary to create a parameters file, \"param_file\", containing the values of the parameters AutoDock Vina needs: xc, yc, zc, xs, ys, and zc. It is necessary to provide a unique name for this file for every experiment by writing it on the variable \"param_file\", and to provide the specific value for each parameter, which will value for the different molecules to dock.\n",
    "\n",
    "As an output, this dock provides an .pdbqt file, which represents the results of the molecular docking simulation. They can be visualized using molecular visualization programs, such as Chimera or PyMOL."
   ]
  },
  {
   "cell_type": "markdown",
   "id": "b02eafb8",
   "metadata": {},
   "source": [
    "## 1. Create necessary directories\n"
   ]
  },
  {
   "cell_type": "code",
   "execution_count": 21,
   "id": "ed029628",
   "metadata": {},
   "outputs": [],
   "source": [
    "%%bash\n",
    "\n",
    "mkdir -p PDBQT_files\n",
    "mkdir -p Original_files\n",
    "mkdir -p Vina_results\n",
    "mkdir -p Vina_params"
   ]
  },
  {
   "cell_type": "markdown",
   "id": "8b38ff3e",
   "metadata": {},
   "source": [
    "## 2. Locate your files (pdb or sdf) in the Original_files directory"
   ]
  },
  {
   "cell_type": "code",
   "execution_count": 25,
   "id": "a5c3ee12",
   "metadata": {},
   "outputs": [],
   "source": [
    "Aptamer_path=\"../../data/3dRNA_DNA_PFOA2.pdb\"\n",
    "Ligand_path=\"../../data/PFOA_sdf2.sdf\"\n",
    "\n",
    "Aptamer_file=\"3dRNA_DNA_PFOA2.pdb\"\n",
    "Ligand_file=\"PFOA_sdf2.sdf\"\n",
    "\n",
    "Aptamer_name=\"3dRNA_DNA_PFOA2\"\n",
    "Ligand_name=\"PFOA_sdf2\""
   ]
  },
  {
   "cell_type": "code",
   "execution_count": 26,
   "id": "af3ff4d9",
   "metadata": {},
   "outputs": [],
   "source": [
    "%%bash -s \"$Aptamer_path\" \"$Ligand_path\"\n",
    "\n",
    "cp $1 Original_files/\n",
    "cp $2 Original_files/\n"
   ]
  },
  {
   "cell_type": "markdown",
   "id": "87d078fb",
   "metadata": {},
   "source": [
    "## 3.Make sure both receptor and ligand are reduced, and create PDBQT files"
   ]
  },
  {
   "cell_type": "code",
   "execution_count": 27,
   "id": "f090fe1c",
   "metadata": {},
   "outputs": [],
   "source": [
    "# Check if Aptamer_name ends with \".sdf\"\n",
    "if Ligand_file.endswith(\".sdf\"):\n",
    "    format_ligand = \"sdf\"\n",
    "# Check if Aptamer_name ends with \".pdb\"\n",
    "elif Ligand_file.endswith(\".pdb\"):\n",
    "    format_ligand = \"pdb\"\n",
    "# If neither \".sdf\" nor \".pdb\" is found at the end, you can provide a default value\n",
    "else:\n",
    "    print(\"Please, ensure that your ligand is in either .sdf or .pdb format\")\n"
   ]
  },
  {
   "cell_type": "code",
   "execution_count": 29,
   "id": "8a6aa069",
   "metadata": {},
   "outputs": [
    {
     "name": "stderr",
     "output_type": "stream",
     "text": [
      "1 molecule converted\n",
      "1 molecule converted\n",
      "1 molecule converted\n",
      "1 molecule converted\n"
     ]
    }
   ],
   "source": [
    "%%bash -s \"$Aptamer_name\" \"$Ligand_name\" \"$format_ligand\"\n",
    "\n",
    "# Reduce the aptamer\n",
    "obabel -i pdb Original_files/$1.pdb -o pdb -h > Original_files/$1_H.pdb\n",
    "# Get the pdbqt for the aptamer\n",
    "obabel Original_files/$1_H.pdb -O PDBQT_files/$1.pdbqt -p 7.4 -xr\n",
    "\n",
    "\n",
    "# Reduce the ligand\n",
    "# Check if $3 equals \"sdf\"\n",
    "if [ \"$3\" = \"sdf\" ]; then\n",
    "    obabel -i sdf Original_files/$2.sdf -o sdf -h > Original_files/$2_H.sdf\n",
    "    obabel -isdf Original_files/$2_H.sdf -opdbqt -O PDBQT_files/$2.pdbqt\n",
    "# Check if $3 equals \"pdb\"\n",
    "elif [ \"$3\" = \"pdb\" ]; then\n",
    "    obabel -i pdb Original_files/$2.pdb -o pdb -h > Original_files/$2_H.pdb\n",
    "    obabel Original_files/$2_H.pdb -O PDBQT_files/$2.pdbqt -p 7.4\n",
    "\n",
    "else\n",
    "    # Handle other cases or provide an error message\n",
    "    echo \"Invalid value for \\$3: $3\"\n",
    "    exit 1\n",
    "fi\n"
   ]
  },
  {
   "cell_type": "markdown",
   "id": "3f087045",
   "metadata": {},
   "source": [
    "## 4.Run AutodockVina"
   ]
  },
  {
   "cell_type": "code",
   "execution_count": 32,
   "id": "183d0eb5",
   "metadata": {},
   "outputs": [
    {
     "name": "stdout",
     "output_type": "stream",
     "text": [
      "AutoDock Vina v1.2.3\n",
      "#################################################################\n",
      "# If you used AutoDock Vina in your work, please cite:          #\n",
      "#                                                               #\n",
      "# J. Eberhardt, D. Santos-Martins, A. F. Tillack, and S. Forli  #\n",
      "# AutoDock Vina 1.2.0: New Docking Methods, Expanded Force      #\n",
      "# Field, and Python Bindings, J. Chem. Inf. Model. (2021)       #\n",
      "# DOI 10.1021/acs.jcim.1c00203                                  #\n",
      "#                                                               #\n",
      "# O. Trott, A. J. Olson,                                        #\n",
      "# AutoDock Vina: improving the speed and accuracy of docking    #\n",
      "# with a new scoring function, efficient optimization and       #\n",
      "# multithreading, J. Comp. Chem. (2010)                         #\n",
      "# DOI 10.1002/jcc.21334                                         #\n",
      "#                                                               #\n",
      "# Please see https://github.com/ccsb-scripps/AutoDock-Vina for  #\n",
      "# more information.                                             #\n",
      "#################################################################\n",
      "\n",
      "Scoring function : vina\n",
      "Rigid receptor: PDBQT_files/3dRNA_DNA_PFOA2.pdbqt\n",
      "Ligand: PDBQT_files/PFOA_sdf2.pdbqt\n",
      "Grid center: X -16.2775 Y -7.679 Z -21.4045\n",
      "Grid size  : X 34.3309 Y 30.258 Z 42.4485\n",
      "Grid space : 0.375\n",
      "Exhaustiveness: 8\n",
      "CPU: 0\n",
      "Verbosity: 1\n",
      "\n",
      "Computing Vina grid ... done.\n",
      "Performing docking (random seed: -1512501946) ... \n",
      "0%   10   20   30   40   50   60   70   80   90   100%\n",
      "|----|----|----|----|----|----|----|----|----|----|\n",
      "***************************************************\n",
      "\n",
      "mode |   affinity | dist from best mode\n",
      "     | (kcal/mol) | rmsd l.b.| rmsd u.b.\n",
      "-----+------------+----------+----------\n",
      "   1       -6.548          0          0\n",
      "   2       -6.512      1.744      2.842\n",
      "   3       -6.346      2.168      4.336\n",
      "   4       -6.334      1.794      3.219\n",
      "   5       -6.249      2.662      3.873\n",
      "   6        -6.24      2.488      4.077\n",
      "   7        -6.23      1.233      2.582\n",
      "   8       -6.204      3.649       7.07\n",
      "   9       -6.182      1.142      2.728\n"
     ]
    },
    {
     "name": "stderr",
     "output_type": "stream",
     "text": [
      "WARNING: Search space volume is greater than 27000 Angstrom^3 (See FAQ)\n"
     ]
    }
   ],
   "source": [
    "%%bash -s \"$Aptamer_name\" \"$Ligand_name\"\n",
    "\n",
    "# Create parameters' file\n",
    "\n",
    "param_file=\"Ap2_params.txt\"\n",
    "if [ ! -f Vina_params/\"$param_file\" ]; then\n",
    "  x_c=-16.2775\n",
    "  y_c=-7.679\n",
    "  z_c=-21.4045\n",
    "  x_s=34.3309\n",
    "  y_s=30.258\n",
    "  z_s=42.4485\n",
    "  \n",
    "  echo $x_c>Vina_params/$param_file\n",
    "  echo $y_c>>Vina_params/$param_file\n",
    "  echo $z_c>>Vina_params/$param_file\n",
    "  echo $x_s>>Vina_params/$param_file\n",
    "  echo $y_s>>Vina_params/$param_file\n",
    "  echo $z_s>>Vina_params/$param_file\n",
    "\n",
    "fi\n",
    "\n",
    "# Initialize the variables\n",
    "\n",
    "xc=\"\"\n",
    "yc=\"\"\n",
    "zc=\"\"\n",
    "xs=\"\"\n",
    "ys=\"\"\n",
    "zs=\"\"\n",
    "\n",
    "# Read the content of the file into variables using a loop\n",
    "while IFS= read -r line; do\n",
    "  if [ -z \"$xc\" ]; then\n",
    "    xc=\"$line\"\n",
    "  elif [ -z \"$yc\" ]; then\n",
    "    yc=\"$line\"\n",
    "  elif [ -z \"$zc\" ]; then\n",
    "    zc=\"$line\"\n",
    "  elif [ -z \"$xs\" ]; then\n",
    "    xs=\"$line\"\n",
    "  elif [ -z \"$ys\" ]; then\n",
    "    ys=\"$line\"\n",
    "  elif [ -z \"$zs\" ]; then\n",
    "    zs=\"$line\"\n",
    "  fi\n",
    "done < Vina_params/\"$param_file\"\n",
    "\n",
    "\n",
    "\n",
    "\n",
    "\n",
    "vina --receptor PDBQT_files/$1.pdbqt --ligand PDBQT_files/$2.pdbqt --center_x $xc --center_y $yc --center_z $zc --size_x $xs --size_y $ys --size_z $zs --out Vina_results/$1.pdbqt"
   ]
  },
  {
   "cell_type": "code",
   "execution_count": null,
   "id": "3d56eef1",
   "metadata": {},
   "outputs": [],
   "source": []
  },
  {
   "cell_type": "code",
   "execution_count": null,
   "id": "87a4295d",
   "metadata": {},
   "outputs": [],
   "source": []
  }
 ],
 "metadata": {
  "kernelspec": {
   "display_name": "Python 3 (ipykernel)",
   "language": "python",
   "name": "python3"
  },
  "language_info": {
   "codemirror_mode": {
    "name": "ipython",
    "version": 3
   },
   "file_extension": ".py",
   "mimetype": "text/x-python",
   "name": "python",
   "nbconvert_exporter": "python",
   "pygments_lexer": "ipython3",
   "version": "3.10.12"
  }
 },
 "nbformat": 4,
 "nbformat_minor": 5
}
