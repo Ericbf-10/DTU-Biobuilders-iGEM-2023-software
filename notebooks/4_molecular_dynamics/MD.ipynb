{
 "cells": [
  {
   "cell_type": "code",
   "execution_count": null,
   "metadata": {},
   "outputs": [],
   "source": [
    "%%bash\n",
    "pip install --upgrade pip\n",
    "pip install wheel\n",
    "pip install setuptools\n",
    "pip install --upgrade setuptools wheel\n",
    "pip install --upgrade cmake pybind11\n",
    "pip install nglview\n",
    "pip install GromacsWrapper \n"
   ]
  },
  {
   "cell_type": "code",
   "execution_count": null,
   "metadata": {},
   "outputs": [],
   "source": [
    "import subprocess\n",
    "\n",
    "# Define the installation command based on your system's package manager\n",
    "# For Ubuntu/Debian-based systems:\n",
    "install_command = \"sudo apt-get install gromacs\"\n",
    "\n",
    "# For macOS using Homebrew:\n",
    "# install_command = \"brew install gromacs\"\n",
    "\n",
    "# Execute the installation command\n",
    "try:\n",
    "    subprocess.run(install_command, shell=True, check=True)\n",
    "    print(\"GROMACS has been successfully installed.\")\n",
    "except subprocess.CalledProcessError:\n",
    "    print(\"Error: Failed to install GROMACS.\")\n",
    "    \n",
    "import matplotlib as mpl\n",
    "import matplotlib.pyplot as plt\n",
    "import numpy as np \n",
    "import gromacs \n",
    "import gromacs.formats\n",
    "import nglview as nv\n"
   ]
  },
  {
   "cell_type": "code",
   "execution_count": null,
   "metadata": {},
   "outputs": [],
   "source": [
    "!grep -v HOH maws_pfoa_aptamer.pdb > python_aptamer.pdb\n",
    "!printf \"1 1\" | gmx pdb2gmx -f python_aptamer.pdb -o python_aptamer_processed.gro -ignh \n",
    "!gmx editconf -f python_aptamer_processed.gro -o python_newbox.gro -c -d 0.5 -bt cubic\n",
    "!gmx solvate -cp python_newbox.gro -cs spc216.gro -o python_solv.gro -p topol.top\n",
    "!gmx grompp -f ions.mdp -c python_solv.gro -p topol.top -o ions.tpr\n",
    "!printf \"SOL\" | gmx genion -s ions.tpr -o python_solv_ions.gro -p topol.top -pname NA -nname CL -neutral\n",
    "!gmx grompp -f minim.mdp -c python_solv_ions.gro -p topol.top -o em.tpr\n",
    "!gmx mdrun -v -deffnm em\n",
    "!printf \"10 0\"| gmx energy -f em.edr -o potential.xvg\n",
    "!gmx grompp -f nvt.mdp -c em.gro -r em.gro -p topol.top -o nvt.tpr\n",
    "!gmx mdrun -deffnm nvt\n",
    "!printf \"16 0\" | gmx energy -f nvt.edr -o temperature.xvg\n",
    "!gmx grompp -f npt.mdp -c nvt.gro -r nvt.gro -t nvt.cpt -p topol.top -o npt.tpr\n",
    "!gmx mdrun -deffnm npt\n",
    "!printf \"18 0\" | gmx energy -f npt.edr -o pressure.xvg\n",
    "!gmx energy -f npt.edr -o density.xvg\n",
    "!gmx grompp -f md.mdp -c npt.gro -t npt.cpt -p topol.top -o md_python.tpr\n",
    "!gmx mdrun -deffnm md_python"
   ]
  },
  {
   "cell_type": "code",
   "execution_count": null,
   "metadata": {},
   "outputs": [],
   "source": [
    "!printf \"1 0\" | gmx trjconv -s md_python.tpr -f md_python.xtc -o md_python_noPBC.xtc -pbc mol -center\n",
    "!printf \"4 0\" | gmx rms -s md_0_1.tpr -f md_python_noPBC.xtc -o rmsd.xvg -tu ns\n",
    "!gmx rms -s em.tpr -f md_python_noPBC.xtc -o rmsd_xtal.xvg -tu ns\n",
    "!printf \"1 0\" | gmx gyrate -s md_python.tpr -f md_python_noPBC.xtc -o gyrate.xvg\n"
   ]
  }
 ],
 "metadata": {
  "language_info": {
   "name": "python"
  }
 },
 "nbformat": 4,
 "nbformat_minor": 2
}
