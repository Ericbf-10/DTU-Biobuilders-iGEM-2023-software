{
 "cells": [
  {
   "cell_type": "markdown",
   "id": "377b9c62",
   "metadata": {},
   "source": [
    "# Making Aptamers Without Selex (MAWS)"
   ]
  },
  {
   "cell_type": "markdown",
   "id": "44c81784",
   "metadata": {},
   "source": [
    "## Description\n",
    "\n",
    "Welcome to the new version of MAWS! This notebook will guide you through the steps to run MAWS successfully. The outline is as follows:\n",
    "\n",
    "1. Download Miniconda3\n",
    "1. Install Miniconda3\n",
    "1. Create the conda environment to run MAWS\n",
    "1. Cusomize parameters and run MAWS\n",
    "\n",
    "### INPUT: What do you need to run this notebook?\n",
    "\n",
    "You only need a **pdb file** of your target molecule, and it can be a protein, small molecule or lipid.\n",
    "\n",
    "### OUTPUT: What will you get from this notebook?\n",
    "\n",
    "You will get the optimal predicted sequence of your aptamer (DNA or RNA) and a **pdb file** containing both your target molecule and the aptamer.\n",
    "\n",
    "Credits to:\n",
    "- The creators of MAWS: [Heidelberg iGEM team (2015)](https://2015.igem.org/Team:Heidelberg/software/maws)\n",
    "- The first improvement of the software: [Heidelberg iGEM team (2017)](https://2017.igem.org/Team:Heidelberg/Software/MAWS)"
   ]
  },
  {
   "cell_type": "markdown",
   "id": "8aaf26f0",
   "metadata": {},
   "source": [
    "### Setting up a Conda Environment with Miniconda3\n",
    "\n",
    "Miniconda is a lightweight package manager that allows you to create isolated Python environments. The download and installation process is a bit different depending on the operating system you have. Here's how to get started:\n",
    "\n",
    "#### Step 1: Download and Install Miniconda3\n",
    "\n",
    "First, download the Miniconda installer for your operating system from the official website: [Miniconda Downloads](https://docs.conda.io/en/latest/miniconda.html)\n",
    "\n",
    "- For Linux:\n",
    "\n",
    "    ```bash\n",
    "    # run this in the terminal\n",
    "    wget https://repo.anaconda.com/miniconda/Miniconda3-latest-Linux-x86_64.sh\n",
    "    ```\n",
    "\n",
    "- For macOS:\n",
    "\n",
    "    ```bash\n",
    "    # run this in the terminal\n",
    "    wget https://repo.anaconda.com/miniconda/Miniconda3-latest-MacOSX-x86_64.sh\n",
    "    ```\n",
    "\n",
    "- For Windows:\n",
    "\n",
    "    Download the installer from the website and run it.\n",
    "\n",
    "#### Step 2: Install Miniconda3\n",
    "\n",
    "Run the installer script you downloaded (please install in the default directory):\n",
    "\n",
    "- On Linux and macOS:\n",
    "\n",
    "    ```bash\n",
    "    # run this in the terminal, in the directory you downloaded Miniconda3\n",
    "    bash Miniconda3-latest-Linux-x86_64.sh\n",
    "    ```\n",
    "\n",
    "- On Windows:\n",
    "\n",
    "    Follow the installation wizard."
   ]
  },
  {
   "cell_type": "markdown",
   "id": "e60ca47b",
   "metadata": {},
   "source": [
    "Now that you have Miniconda installed, you can create a conda environment. We need to create a conda environment that has all the dependency requirements to run MAWS, and then we will import it as a Jupyter kernel. We will do this by using the environment.yml file. **Please, be patient. This will take a while**"
   ]
  },
  {
   "cell_type": "code",
   "execution_count": null,
   "id": "07efb24b",
   "metadata": {},
   "outputs": [],
   "source": [
    "%%bash\n",
    "export PATH=\"$HOME/miniconda3/bin:$PATH\"\n",
    "conda env create --file environment.yml\n",
    "source activate maws_env\n",
    "python -m ipykernel install --user --name maws_env --display-name \"Python (maws_env)\""
   ]
  },
  {
   "cell_type": "markdown",
   "id": "b2ca9af8",
   "metadata": {},
   "source": [
    "### Switching Jupyter kernel\n",
    "\n",
    "Okay, now it's time to refresh this Jupyter notebook. After you refresh the page, you should be able to choose the\n",
    "`Python (maws_env)` kernel. \n",
    "\n",
    "Click the following: **Kernel tab --> Change kernel --> maws_env**\n",
    "\n",
    "Great! If you see the name `Python (maws_env)` in the top right corner of this notebook (you may need to refresh the page again), you can proceed with running the rest of this notebook :-)"
   ]
  },
  {
   "cell_type": "markdown",
   "id": "a52fe16a",
   "metadata": {},
   "source": [
    "## Define MAWS parameters\n",
    "\n",
    "You can edit the following cell and change the parameters to run the MAWS program"
   ]
  },
  {
   "cell_type": "code",
   "execution_count": null,
   "id": "c96bb1f8",
   "metadata": {},
   "outputs": [],
   "source": [
    "# Job name\n",
    "job_name = \"maws_try_jupyter\"\n",
    "\n",
    "# Number of nucleotides in the aptamer\n",
    "nucleotides = 3\n",
    "\n",
    "# Path to your pdb file\n",
    "my_path = \"./pfoa.pdb\"\n",
    "\n",
    "# Aptamer type (DNA or RNA)\n",
    "apt_type = \"DNA\"\n",
    "\n",
    "# Molecule type (protein, organic or lipid)\n",
    "mol_type = \"organic\"\n",
    "\n",
    "# Name of your conda environment\n",
    "env_name = \"maws_env\"\n",
    "\n",
    "# Beta\n",
    "beta = 0.01\n",
    "\n",
    "# First chunk size\n",
    "chunk_1 = 10\n",
    "\n",
    "# Second chunk size\n",
    "chunk_2 = 10"
   ]
  },
  {
   "cell_type": "code",
   "execution_count": null,
   "id": "5d4cd49f",
   "metadata": {},
   "outputs": [],
   "source": [
    "%%bash -s \"$job_name\" \"$nucleotides\" \"$my_path\" \"$apt_type\" \"$mol_type\" \"$env_name\" \"$beta\" \"$chunk_1\" \"$chunk_2\"\n",
    "export PATH=\"$HOME/miniconda3/bin:$PATH\"\n",
    "source activate maws_env\n",
    "NBPATH=$(pwd)\n",
    "python $NBPATH/../../heidelberg_maws/MAWS2023.py -n $1 -nt $2 -p $3 -ta $4 -tm $5 -cenv $6 -b $7 -c1 $8 -c2 $9"
   ]
  },
  {
   "cell_type": "code",
   "execution_count": null,
   "id": "b86cc710",
   "metadata": {},
   "outputs": [],
   "source": []
  }
 ],
 "metadata": {
  "kernelspec": {
   "display_name": "Python (maws_env)",
   "language": "python",
   "name": "maws_env"
  },
  "language_info": {
   "codemirror_mode": {
    "name": "ipython",
    "version": 3
   },
   "file_extension": ".py",
   "mimetype": "text/x-python",
   "name": "python",
   "nbconvert_exporter": "python",
   "pygments_lexer": "ipython3",
   "version": "3.9.17"
  }
 },
 "nbformat": 4,
 "nbformat_minor": 5
}
